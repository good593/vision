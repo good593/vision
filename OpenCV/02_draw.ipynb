{
 "cells": [
  {
   "cell_type": "markdown",
   "metadata": {},
   "source": [
    "# 도형 그리기\n",
    "- https://blog.naver.com/samsjang/220501624273\n",
    "\n",
    "### 함수\n",
    "- `cv2.line()`: 직선 그리기 함수\n",
    "- `cv2.circle()`: 원 그리기 함수\n",
    "- `cv2.rectangle()`: 직사각형 그리기 함수\n",
    "- `cv2.ellipse()`: 타원 그리기 함수\n",
    "- `cv2.putText()`: 텍스트 입력 함수 \n",
    "\n",
    "### 함수 인자\n",
    "- `img`: 각종 도형을 그리기 위한 공간 (img를 화면에 디스플레이 하게 됨)\n",
    "- `color`: 도형 색상.(OpenCV는 BGR 모드)\n",
    "  - 청색: (255, 0, 0), 녹색: (0, 255, 0), 빨간색: (0, 0, 255)\n",
    "- `thickness`: 선 굵기. (디폴트: 1)\n",
    "  - 원, 직사각형과 같이 닫힌 도형에서 `-1` 값을 전달하면 도형을 채우게 됨.\n",
    "- `lineType`: 선을 화면에 표현하는 방법 (디폴트: 8-connected)\n",
    "  - `cv2.LINE_AA`로 설정하면 곡선에서 유용한 anti-aliased line으로 화면에 선을 그림"
   ]
  },
  {
   "cell_type": "code",
   "execution_count": 3,
   "metadata": {},
   "outputs": [
    {
     "data": {
      "text/plain": [
       "<matplotlib.pyplot._IonContext at 0x14a5e6460>"
      ]
     },
     "execution_count": 3,
     "metadata": {},
     "output_type": "execute_result"
    }
   ],
   "source": [
    "import numpy as np \n",
    "import cv2 \n",
    "import matplotlib.pyplot as plt\n",
    "\n",
    "plt.ion() # interactive mode"
   ]
  },
  {
   "cell_type": "code",
   "execution_count": 21,
   "metadata": {},
   "outputs": [
    {
     "data": {
      "image/png": "[encoded data removed]",
      "text/plain": [
       "<Figure size 432x288 with 1 Axes>"
      ]
     },
     "metadata": {
      "needs_background": "light"
     },
     "output_type": "display_data"
    }
   ],
   "source": [
    "def drawing():\n",
    "  img = np.zeros((512, 512, 3), np.uint8)\n",
    "\n",
    "  # 다양한 색상과 선두께를 가진 도형 그리기\n",
    "  cv2.line(img, (0,0), (511, 511), (255, 0, 0), 5)\n",
    "  cv2.rectangle(img, (384, 0), (510, 128), (0, 255, 0), 3)\n",
    "  cv2.circle(img, (447, 63), 63, (0, 0, 255), -1)\n",
    "  cv2.ellipse(img, (256, 256), (100, 50), 0, 0, 180, (255, 0, 0), -1)\n",
    "\n",
    "  font = cv2.FONT_HERSHEY_SIMPLEX\n",
    "  cv2.putText(img, 'OpenCV', (10, 500), font, 4, (255, 255, 255), 2)\n",
    "\n",
    "  # cv2는 BGR로 이미지를 인식 하지만 plt는 RGB로 이미지를 인식\n",
    "  # 그리서 BGR을 RGB로 변환 필요\n",
    "  B_img = img[:,:,0]\n",
    "  G_img = img[:,:,1]\n",
    "  R_img = img[:,:,2]\n",
    "  convert_img = np.dstack([R_img, G_img, B_img])\n",
    "  plt.imshow(convert_img)\n",
    "  plt.show()\n",
    "\n",
    "drawing()"
   ]
  },
  {
   "cell_type": "markdown",
   "metadata": {},
   "source": [
    "#### img = np.zeros((512, 512, 3), np.uint8)\n",
    "> 각종 도형을 그리기 위한 공간을 생성합니다. 위 코드는 numpy.zeros() 함수를 이용하고 있는데, 이 함수는 numpy 배열을 만들고 모든 값을 0으로 채우는 함수입니다.  \n",
    "> 여기서는 512 x 512인 배열을 만드는데, 각 멤버가 (0, 0, 0)인 배열입니다. 그리고, 채우는 데이터 타입은 uint8입니다.  \n",
    "> 이를 이미지 차원에서 다시 설명하면, 512 x 512 크기의 검정색 이미지를 생성한 것과 같습니다. 왜나하면 모든 원소가 (0, 0, 0) 즉 BGR의 값으로 검정색으로 초기화 되어 있기 때문입니다.\n",
    "#### cv2.line(img, (0,0), (511, 511), (255, 0, 0), 5)\n",
    "> 512 x 512 크기의 검정색 판에 좌표 (0,0)에서 (511,511)까지 빨간색의 두께 5인 직선을 그립니다.\n",
    "> - `img`: 직선을 그릴 그림판\n",
    "> - `(0,0)`: 직선의 시작점\n",
    "> - `(511,511)`: 직선의 끝점\n",
    "> - `(255, 0, 0)`: BGR 값으로 선의 색상\n",
    "> - `5`: 선의 굵기\n",
    "#### cv2.rectangle(img, (384, 0), (510, 128), (0, 255, 0), 3)\n",
    "> cv2.rectangle()함수의 인자는 직선 그리기 함수와 동일합니다. 다만 주어진 두개의 좌표가 좌측 상단, 우측 상단 좌표이며 이 좌표가 사각형의 대각선 꼬지점이 되는 것이 차이입니다.   \n",
    "> (384, 0)이 좌측 상단 꼭지점, (510, 128)이 우측 하단 꼭지점이고, 색상은 녹색, 두께는 3인 직선으로 그립니다.    \n",
    "#### cv2.circle(img, (447, 63), 63, (0, 0, 255), -1)\n",
    "> 원을 그리기 위해서는 중심 좌표와 반지름이 필요합니다.  \n",
    "> - `(447, 63)`: 원의 중심\n",
    "> - `63`: 원의 반지름\n",
    "> - `(0, 0, 255)`: BGR 값\n",
    "> - `-1`: 주어진 색상으로 도형을 채움    \n",
    "위의 코드는 (447, 63)이 중심이고 반지름이 63, 색상은 빨간색으로 채우게 됩니다.  \n",
    "#### cv2.ellipse(img, (256, 256), (100, 50), 0, 0, 180, (255, 0, 0), -1)\n",
    "> 타원을 그립니다.   \n",
    "> - `(256, 256)`: 타원의 중심\n",
    "> - `(100, 50)`: 각각 장축과 단축의 1/2 길이\n",
    "> - `0, 0, 180`: 타원의 기울기 각도, 타원 호를 그리는 시작 각도, 타원 호를 그리는 끝 각도    \n",
    "#### font = cv2.FONT_HERSHEY_SIMPLEX\n",
    "#### cv2.putText(img, 'OpenCV', (10, 500), font, 4, (255, 255, 255), 2)\n",
    "> `OpenCV`라는 글자를 (10,500)의 위치에 지정된 폰트와 폰트크기 그리고 굵기 2인 흰색의 글자로 표기"
   ]
  },
  {
   "cell_type": "code",
   "execution_count": null,
   "metadata": {},
   "outputs": [],
   "source": []
  }
 ],
 "metadata": {
  "kernelspec": {
   "display_name": "Python 3.9.10 64-bit ('study3.9')",
   "language": "python",
   "name": "python3"
  },
  "language_info": {
   "codemirror_mode": {
    "name": "ipython",
    "version": 3
   },
   "file_extension": ".py",
   "mimetype": "text/x-python",
   "name": "python",
   "nbconvert_exporter": "python",
   "pygments_lexer": "ipython3",
   "version": "3.9.10"
  },
  "orig_nbformat": 4,
  "vscode": {
   "interpreter": {
    "hash": "f7e437f51093040c186fe1fdf3815d5791d8856d54a1d09b959b5ae0e56a4015"
   }
  }
 },
 "nbformat": 4,
 "nbformat_minor": 2
}
